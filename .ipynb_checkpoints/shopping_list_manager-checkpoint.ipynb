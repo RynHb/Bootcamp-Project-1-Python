{
 "cells": [
  {
   "cell_type": "code",
   "execution_count": 3,
   "id": "f55ca244",
   "metadata": {
    "scrolled": false
   },
   "outputs": [
    {
     "name": "stdout",
     "output_type": "stream",
     "text": [
      "Welcome to the Shopping List Manager program\n",
      "\n",
      "The choices\n",
      "1. Add item\n",
      "2. Remove item\n",
      "3. View shopping list\n",
      "4. Exit\n",
      "Enter your choice: 4\n",
      "\n",
      " Exiting...\n",
      "\n",
      " Final Shopping List:\n"
     ]
    }
   ],
   "source": [
    "# Empty dictionary\n",
    "shopping_list = {}\n",
    "\n",
    "# Function to add an item to the shopping list\n",
    "def add_item(item, quantity, shopping_list):\n",
    "    if item in shopping_list:\n",
    "        shopping_list[item] += quantity\n",
    "    else:\n",
    "        shopping_list[item] = quantity\n",
    "\n",
    "# Function to remove an item from the shopping list\n",
    "def remove_item(item, shopping_list):\n",
    "    if item not in shopping_list:\n",
    "        print(\"Invalid item. Please try again.\")\n",
    "    elif item in shopping_list:\n",
    "        del shopping_list[item]\n",
    "\n",
    "# Function to view the current shopping list\n",
    "def view_list(shopping_list):\n",
    "    for item, quantity in shopping_list.items():\n",
    "        print(f\"{item}: {quantity}\")\n",
    "        \n",
    "# Function to sort the shopping list alphabetically\n",
    "def sort_shopping_list(shopping_list):\n",
    "    sorted_list = dict(sorted(shopping_list.items(), key=lambda lst: lst[0].lower()))\n",
    "    return sorted_list\n",
    "\n",
    "# Main\n",
    "print(\"Welcome to the Shopping List Manager program\")\n",
    "while True != False:\n",
    "    print(\"\\nThe choices\")\n",
    "    print(\"1. Add item\")\n",
    "    print(\"2. Remove item\")\n",
    "    print(\"3. View shopping list\")\n",
    "    print(\"4. Exit\")\n",
    "    \n",
    "    choice = input(\"Enter your choice: \")\n",
    "    \n",
    "    if not choice.isdigit():\n",
    "        print(\"Invalid choice. Please enter a valid number.\")\n",
    "        continue\n",
    "    \n",
    "    choice = int(choice)    \n",
    "    \n",
    "    if choice == 1:\n",
    "        item = input(\"Enter the item name: \")\n",
    "        quantity = input(\"Enter the quantity: \")\n",
    "        if not quantity.isdigit():\n",
    "            print(\"Invalid quantity. Please enter a valid quantity number.\")\n",
    "            continue\n",
    "        quantity = int(quantity)\n",
    "        add_item(item, quantity, shopping_list)\n",
    "\n",
    "    elif choice == 2:\n",
    "        item = input(\"Enter the item name to remove: \")\n",
    "        remove_item(item, shopping_list)\n",
    "\n",
    "    elif choice == 3:\n",
    "        print(\"\")\n",
    "        view_list(shopping_list)\n",
    "        print(\"\")\n",
    "\n",
    "    elif choice == 4:\n",
    "        print(\"\\n Exiting...\")\n",
    "        break\n",
    "    else:\n",
    "        print(\"Invalid choice. Please try again.\")\n",
    "\n",
    "# Sorting the shopping list and display it\n",
    "shopping_list = sort_shopping_list(shopping_list)\n",
    "print(\"\\n Final Shopping List:\")\n",
    "view_list(shopping_list)"
   ]
  }
 ],
 "metadata": {
  "kernelspec": {
   "display_name": "Python 3 (ipykernel)",
   "language": "python",
   "name": "python3"
  },
  "language_info": {
   "codemirror_mode": {
    "name": "ipython",
    "version": 3
   },
   "file_extension": ".py",
   "mimetype": "text/x-python",
   "name": "python",
   "nbconvert_exporter": "python",
   "pygments_lexer": "ipython3",
   "version": "3.11.3"
  }
 },
 "nbformat": 4,
 "nbformat_minor": 5
}
